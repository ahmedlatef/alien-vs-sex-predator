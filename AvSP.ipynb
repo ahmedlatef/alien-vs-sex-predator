{
 "cells": [
  {
   "cell_type": "code",
   "execution_count": 1,
   "metadata": {
    "collapsed": false
   },
   "outputs": [],
   "source": [
    "import pickle\n",
    "import os, sys\n",
    "sys.path.insert(0, os.path.abspath('parser'))\n",
    "sys.path.insert(0, os.path.abspath('preprocessor'))\n",
    "from message import *\n",
    "from tfidf_builder import *\n",
    "from data_preparation import *"
   ]
  },
  {
   "cell_type": "code",
   "execution_count": 2,
   "metadata": {
    "collapsed": false
   },
   "outputs": [],
   "source": [
    "classifier = pickle.load(open(\"validation/best_classifier.p\", \"rb\"))\n",
    "tfidf_builder = pickle.load(open(\"preprocessor/tfidf_builder.p\", \"rb\"))"
   ]
  },
  {
   "cell_type": "code",
   "execution_count": 164,
   "metadata": {
    "collapsed": false
   },
   "outputs": [],
   "source": [
    "user_messages_dict = pickle.load(open(\"parser/test_inputs_dict.p\", \"rb\"))\n",
    "user_class_dict = pickle.load(open(\"parser/test_outputs_dict.p\", \"rb\"))\n",
    "positively_predicted_users = pickle.load(open(\"testing/positively_predicted_users.p\", \"rb\"))\n",
    "\n",
    "mini_user_messages_dict = {}\n",
    "mini_user_class_dict = {}\n",
    "\n",
    "positive_user_found = False\n",
    "negative_user_found = False\n",
    "\n",
    "'''\n",
    "negative_user = \"e29be37c2febc43a0d21a1f8efa351af\"\n",
    "mini_user_messages_dict[negative_user] = user_messages_dict[negative_user]\n",
    "mini_user_class_dict[negative_user] = user_class_dict[negative_user]\n",
    "negative_user_found = True\n",
    "'''\n",
    "\n",
    "for user in user_messages_dict:\n",
    "    if positive_user_found and negative_user_found:\n",
    "        break\n",
    "    if len(user_messages_dict[user]) < 10:\n",
    "        continue\n",
    "        \n",
    "    if not positive_user_found and user_class_dict[user] == 1 and user in positively_predicted_users:\n",
    "        mini_user_messages_dict[user] = user_messages_dict[user]\n",
    "        mini_user_class_dict[user] = user_class_dict[user]\n",
    "        positive_user = user\n",
    "        positive_user_found = True\n",
    "    if not negative_user_found and user_class_dict[user] == 0 and user not in positively_predicted_users:\n",
    "        mini_user_messages_dict[user] = user_messages_dict[user]\n",
    "        mini_user_class_dict[user] = user_class_dict[user]\n",
    "        negative_user = user\n",
    "        negative_user_found = True\n",
    "\n",
    "del user_messages_dict\n",
    "del user_class_dict\n",
    "del positively_predicted_users"
   ]
  },
  {
   "cell_type": "code",
   "execution_count": 165,
   "metadata": {
    "collapsed": false
   },
   "outputs": [
    {
     "name": "stdout",
     "output_type": "stream",
     "text": [
      "2 2\n"
     ]
    }
   ],
   "source": [
    "print(len(mini_user_messages_dict), len(mini_user_class_dict))"
   ]
  },
  {
   "cell_type": "code",
   "execution_count": 169,
   "metadata": {
    "collapsed": false
   },
   "outputs": [
    {
     "name": "stdout",
     "output_type": "stream",
     "text": [
      "Positive user messages: 167\n",
      "\thi\n",
      "\twhere ya from?\n",
      "\tAberdeen\n",
      "\tin Maryland\n",
      "\twhere is ewton square?\n",
      "\ti mean\n",
      "\toh\n",
      "\twe aren't too far thaen\n",
      "\tthen\n",
      "\ti can't spell tonight\n",
      "\tyou have any pics?\n",
      "\twhat do you look like?\n",
      "\toh\n",
      "\tdamn you are only 14?\n",
      "\toh shit\n",
      "\tmy fault\n",
      "\t27\n",
      "\thow old did you think i was\n",
      "\tno it aint\n",
      "\tyou aren't ready for someone like me\n",
      "\tyes really\n",
      "\tplus i could go to jail\n",
      "\thmmm---statutory rape\n",
      "\tfor one\n",
      "\tyouo are sexy though\n",
      "\tanyway\n",
      "\tnot liek you would anyway\n",
      "\tyou heard me--its not like you would do anything anyway\n",
      "\tbut damn you are sexy\n",
      "\tthe things i could do to you\n",
      "\tlol\n",
      "\tnot with me though\n",
      "\tlet me stop\n",
      "\twhat are you looking at anyway\n",
      "\tyou looking at my cam?\n",
      "\tdon't say that--cuz i'd love to slide my cock into that tight pussy of yours\n",
      "\tno its not\n",
      "\twhat am i thinkin\n",
      "\ti have been alone too long\n",
      "\toh i am glad you find that funny\n",
      "\tmakes a guy think crazy things\n",
      "\tlike fucking a girl that ain't ready for me\n",
      "\twondering how i can get her in my bed\n",
      "\thmmm--if you got on a train--...\n",
      "\ti could make you cum all weekend\n",
      "\tj/k\n",
      "\twhat and police cum out and bust me...lol\n",
      "\twhat you wanna meet?\n",
      "\thell yea you are hot\n",
      "\tbut too young babe\n",
      "\tthere would be no way for us to\n",
      "\tand\n",
      "\tyou mean to tell me she left you home alone\n",
      "\ti don't believe you\n",
      "\tcall me then\n",
      "\tedit\n",
      "\tno uyou won't lol\n",
      "\tnice one\n",
      "\ti didn't say that--i just don't think you will\n",
      "\ttell her you will call her back\n",
      "\tin a minute\n",
      "\twarren\n",
      "\ti am waiting for the call--\n",
      "\tyou won't call\n",
      "\ti knew it\n",
      "\tlook i gotta get some sleep i hae to get up at 4\n",
      "\tit was nice talking to ya\n",
      "\twhatever\n",
      "\tlol\n",
      "\tdamn\n",
      "\they\n",
      "\tyou aer up early\n",
      "\tyou there?\n",
      "\twhat are you up too?\n",
      "\twaiting\n",
      "\tu silly\n",
      "\tsure\n",
      "\tif thats what you want\n",
      "\ti got a movie we could watch\n",
      "\tbeb\n",
      "\tbrb\n",
      "\ti am back\n",
      "\ti will leave real soon now\n",
      "\tyou there?\n",
      "\ti dunno\n",
      "\tnear b-more\n",
      "\tafter\n",
      "\tsometime\n",
      "\tnot too sure\n",
      "\tyeah around then\n",
      "\tgo shower i will see ya later--oh i have a few good movies\n",
      "\tyou like kung fu movies?\n",
      "\treally!\n",
      "\tfinally someone that likes kung fu\n",
      "\tyou are my new movie buddy\n",
      "\tthat is good\n",
      "\toh--lol\n",
      "\tyou don't like kung fu movies?\n",
      "\tgreat--i will bring a couple of good ones--you like jet li?\n",
      "\tbet--i like his earlier films\n",
      "\ti will bring a couple\n",
      "\ttalk to you later\n",
      "\they\n",
      "\tmy cell number is edit\n",
      "\tif i am late you can call it\n",
      "\ti dunno--if i am not there by 2 --i might be lost--lol\n",
      "\tin a few\n",
      "\tsure you can\n",
      "\tits just me\n",
      "\tlol\n",
      "\tyou trust me to come over but not to have a number???\n",
      "\tyou being straight up with me?\n",
      "\tno seriously\n",
      "\tsince i have moved up here i found that women are full of shit\n",
      "\tthey say one thing mean another and do soemthing else from that\n",
      "\ttrue--but why is your number all top secret\n",
      "\tyou know i have your number--i won't call you of course but i do have it\n",
      "\tcause i respect your wishes\n",
      "\ti won't\n",
      "\tbut it is hard for me to trust anymore--women lie to me so much\n",
      "\tis that right?\n",
      "\twell, i hope that doesn't scare you\n",
      "\tit is just hard for me to trust in someone--it takes time\n",
      "\tsee i know what i will do--\n",
      "\tbut i don't know about you\n",
      "\ti know i am trustworthy and dependable--\n",
      "\ti am not saying you aren't\n",
      "\tdon't get me wrong\n",
      "\they call me back--\n",
      "\ti don't want to talk on here--\n",
      "\ti won't keep you up long\n",
      "\tjust for a minute\n",
      "\ti have something i want to say\n",
      "\twon't take a minute\n",
      "\ti hate haveing to type--much quicker that way\n",
      "\tplus maybe i want to hear your voice again\n",
      "\tnever mind then\n",
      "\tis that your number?\n",
      "\thmmmm\n",
      "\tgood grief\n",
      "\ti am glad you said that though cause 404 ain't philly\n",
      "\tits Atlanta\n",
      "\tgeorgia\n",
      "\twhere i am from\n",
      "\twell i am going to leave you alone--before i do some other dumb shit\n",
      "\tnice talking to you--you seem very intelligent\n",
      "\tbye\n",
      "\tsleep well\n",
      "\ti'll talk to you tomorrow\n",
      "\toh what color is your house?\n",
      "\tya got me thinking about what you said earlier\n",
      "\tthat i'd like to slide my cock in you and you said cool--damn what am i saying\n",
      "\ti think i will come early--that way you could just stay in the bed\n",
      "\tchores??--i thought you were sleeping in\n",
      "\twhy we are just going to mess everything up--might as well just let me help ya\n",
      "\tlol\n",
      "\tclean up--lol i can c it now--alpha team move--bravo tem flank--freeze!!!\n",
      "\tmove move move\n",
      "\tlol\n",
      "\tok\n",
      "\tjust imagining tomorrow\n",
      "\tthats all\n",
      "\tlol\n",
      "\tnever mind\n",
      "\tjust predicting my future\n",
      "\tme too\n",
      "\tnite\n",
      "\n",
      "Negative user messages: 33\n",
      "\tzakim, code?\n",
      "\tzakim, i am ??P10\n",
      "\t[off] are we meeting?\n",
      "\tHi 28d34f2e053dee2c0e9399a7924cd978.\n",
      "\tI thought Roland said he'd be in Germany.\n",
      "\tHe sent a mail to the lst.\n",
      "\tright\n",
      "\tHe probably forgot that Steven was away.\n",
      "\tHey...we've had meetings based on less.\n",
      "\tBut you're right, no chair and no agenda makes it a little tricky. :) Bye......\n",
      "\tzakim, codes?\n",
      "\tzakim, code?\n",
      "\tzakim, i am ?\n",
      "\tzakim, i am ??\n",
      "\tzakim, i am ??22\n",
      "\tzakim, i am ??p22\n",
      "\tzakim, who is here?\n",
      "\t[off] ah...that explains it. :) Normally typing \"zakim, i am ?\" is enough, but there are two other unidentified callers. :)\n",
      "\tzakim, ? is 7d22538443af9867c0589ed3136ca02e\n",
      "\t[off] it is now... :)\n",
      "\tI've searched for \"http://www.w3.org/2007/03/19-tagmem-minutes.html#action01\"\n",
      "\tand \"CompactURIReferences-5\"\n",
      "\twhich are the references in the minutes about raising a TAG issue about CURIEs.\n",
      "\tThe minutes have:\n",
      "\t\"ACTION: HST to circulate a candidate description to <email/> [recorded in http://www.w3.org/2007/03/19-tagmem-minutes.html#action01]\"\n",
      "\tBut I can't find a reference to Henry doing this action.\n",
      "\tq+\n",
      "\thttp://lists.w3.org/Archives/Public/public-rdf-in-xhtml-tf/2007Sep/0237.html\n",
      "\tThe proposal is to use: http://www.w3.org/1999/xhtml/relations instead.\n",
      "\tAt the moment we also have: http://www.w3.org/1999/xhtml/datatypes\n",
      "\ts/relations in/relations# in/\n",
      "\ts/datatypes/datatypes\\//\n",
      "\tzakim, i am ?\n"
     ]
    }
   ],
   "source": [
    "print(\"Positive user messages:\", len(mini_user_messages_dict[positive_user]))\n",
    "for message in mini_user_messages_dict[positive_user]:\n",
    "    print(\"\\t\" + message._text)\n",
    "print(\"\\nNegative user messages:\", len(mini_user_messages_dict[negative_user]))\n",
    "for message in mini_user_messages_dict[negative_user]:\n",
    "    print(\"\\t\" + message._text)"
   ]
  },
  {
   "cell_type": "code",
   "execution_count": 166,
   "metadata": {
    "collapsed": false
   },
   "outputs": [
    {
     "name": "stdout",
     "output_type": "stream",
     "text": [
      "1/2\n",
      "2/2\n"
     ]
    }
   ],
   "source": [
    "users, inputs, outputs = build_classifier_io(mini_user_messages_dict, mini_user_class_dict, tfidf_builder);"
   ]
  },
  {
   "cell_type": "code",
   "execution_count": 170,
   "metadata": {
    "collapsed": false
   },
   "outputs": [
    {
     "name": "stdout",
     "output_type": "stream",
     "text": [
      "(2, 59378)\n"
     ]
    }
   ],
   "source": [
    "print(inputs.shape)"
   ]
  },
  {
   "cell_type": "code",
   "execution_count": 167,
   "metadata": {
    "collapsed": true
   },
   "outputs": [],
   "source": [
    "prediction = classifier.predict(inputs)"
   ]
  },
  {
   "cell_type": "code",
   "execution_count": 168,
   "metadata": {
    "collapsed": false
   },
   "outputs": [
    {
     "name": "stdout",
     "output_type": "stream",
     "text": [
      "[0 1] [0 1]\n"
     ]
    }
   ],
   "source": [
    "print(prediction, outputs)"
   ]
  },
  {
   "cell_type": "code",
   "execution_count": null,
   "metadata": {
    "collapsed": true
   },
   "outputs": [],
   "source": []
  }
 ],
 "metadata": {
  "kernelspec": {
   "display_name": "Python 3",
   "language": "python",
   "name": "python3"
  },
  "language_info": {
   "codemirror_mode": {
    "name": "ipython",
    "version": 3
   },
   "file_extension": ".py",
   "mimetype": "text/x-python",
   "name": "python",
   "nbconvert_exporter": "python",
   "pygments_lexer": "ipython3",
   "version": "3.4.4"
  }
 },
 "nbformat": 4,
 "nbformat_minor": 0
}
