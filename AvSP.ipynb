{
 "cells": [
  {
   "cell_type": "code",
   "execution_count": 42,
   "metadata": {
    "collapsed": false
   },
   "outputs": [],
   "source": [
    "import pickle\n",
    "import os, sys\n",
    "sys.path.insert(0, os.path.abspath('parser'))\n",
    "sys.path.insert(0, os.path.abspath('preprocessor'))\n",
    "from message import *\n",
    "from tfidf_builder import *\n",
    "from data_preparation import *"
   ]
  },
  {
   "cell_type": "code",
   "execution_count": 52,
   "metadata": {
    "collapsed": false
   },
   "outputs": [],
   "source": [
    "classifier = pickle.load(open(\"validation/best_classifier.p\", \"rb\"))\n",
    "tfidf_builder = pickle.load(open(\"preprocessor/tfidf_builder.p\", \"rb\"))"
   ]
  },
  {
   "cell_type": "code",
   "execution_count": 53,
   "metadata": {
    "collapsed": false
   },
   "outputs": [],
   "source": [
    "user_messages_dict = pickle.load(open(\"parser/test_inputs_dict.p\", \"rb\"))\n",
    "user_class_dict = pickle.load(open(\"parser/test_outputs_dict.p\", \"rb\"))\n",
    "positively_predicted_users = pickle.load(open(\"testing/positively_predicted_users.p\", \"rb\"))\n",
    "\n",
    "mini_user_messages_dict = {}\n",
    "mini_user_class_dict = {}\n",
    "\n",
    "positive_user_found = False\n",
    "negative_user_found = False\n",
    "for user in user_messages_dict:\n",
    "    if positive_user_found and negative_user_found:\n",
    "        break\n",
    "        \n",
    "    if not positive_user_found and user_class_dict[user] == 1 and user in positively_predicted_users:\n",
    "        mini_user_messages_dict[user] = user_messages_dict[user]\n",
    "        mini_user_class_dict[user] = user_class_dict[user]\n",
    "        positive_user = user\n",
    "        positive_user_found = True\n",
    "    if not negative_user_found and user_class_dict[user] == 0 and user not in positively_predicted_users:\n",
    "        mini_user_messages_dict[user] = user_messages_dict[user]\n",
    "        mini_user_class_dict[user] = user_class_dict[user]\n",
    "        negative_user = user\n",
    "        negative_user_found = True\n",
    "\n",
    "del user_messages_dict\n",
    "del user_class_dict\n",
    "del positively_predicted_users"
   ]
  },
  {
   "cell_type": "code",
   "execution_count": 54,
   "metadata": {
    "collapsed": false
   },
   "outputs": [
    {
     "name": "stdout",
     "output_type": "stream",
     "text": [
      "2 2\n"
     ]
    }
   ],
   "source": [
    "print(len(mini_user_messages_dict), len(mini_user_class_dict))"
   ]
  },
  {
   "cell_type": "code",
   "execution_count": 55,
   "metadata": {
    "collapsed": false
   },
   "outputs": [
    {
     "name": "stdout",
     "output_type": "stream",
     "text": [
      "1/2\n",
      "2/2\n"
     ]
    }
   ],
   "source": [
    "users, inputs, outputs = build_classifier_io(mini_user_messages_dict, mini_user_class_dict, tfidf_builder);"
   ]
  },
  {
   "cell_type": "code",
   "execution_count": 56,
   "metadata": {
    "collapsed": true
   },
   "outputs": [],
   "source": [
    "prediction = classifier.predict(inputs)"
   ]
  },
  {
   "cell_type": "code",
   "execution_count": 57,
   "metadata": {
    "collapsed": false
   },
   "outputs": [
    {
     "name": "stdout",
     "output_type": "stream",
     "text": [
      "[1 0] [1 0]\n"
     ]
    }
   ],
   "source": [
    "print(prediction, outputs)"
   ]
  },
  {
   "cell_type": "code",
   "execution_count": 59,
   "metadata": {
    "collapsed": false
   },
   "outputs": [
    {
     "name": "stdout",
     "output_type": "stream",
     "text": [
      "Positive user messages:\n",
      "sorry i missed u too... was busy doin my laundry & watching a movie! Have a GREAT day!\n",
      "u run away??\n",
      "guess so\n",
      "hello????\n",
      "yes\n",
      "k\n",
      "so... wat u up to tonite?\n",
      "sitting on my bed half naked... lol\n",
      "wanna join me?? lol\n",
      "sure... c'mon over.. lol\n",
      "now what would u do if u came over and saw me half naked on my bed??? honestly??\n",
      "stand in my door & scream?? lol\n",
      "or would u just stand there and stare?\n",
      "u ever seen a dick b4?\n",
      "for real?\n",
      "or just pictures?\n",
      "who's?\n",
      "can i ask y u added me??\n",
      "just wondering\n",
      "nah\n",
      "did ur exbf have a big dick?\n",
      "u saw it...... u don't know if it was big?\n",
      "wanna see mine?? see if it was as big?? :D\n",
      "??\n",
      "where's ur parents?\n",
      "hello????\n",
      "guess u don't wanna chat anymore\n",
      "she see u talkin to me?\n",
      "u still busy?\n",
      "just holler back at me\n",
      "guess u never came back online.. :(\n",
      "tty tomorrow then\n",
      "I just missed you too... :((\n",
      "you around?\n",
      "you around??\n",
      "i'll be on around that time to talk with u\n",
      "hey!!\n",
      "no where... yahoo acting up\n",
      "u miss me??\n",
      "i was getting pissed\n",
      "well i'm here now\n",
      "so u want m to buy you some new thongs??\n",
      "or u want v-strings or g-strings?\n",
      "see if I can find a pic for u.. hold on\n",
      "i'm still here.. trying to find the v-strings....\n",
      "it's the same as a gstring... almost\n",
      "yes\n",
      "would u wear 'em?\n",
      "found a pic...\n",
      "yeah.. but it's made to show off ur ass :D\n",
      "or maybe i'll just take u up to Wal-mart or somewhere and let u pick out the ones u want\n",
      "not in public... for me!!! :D\n",
      "hey.. brb... gotta take a pee break.. lol\n",
      "back\n",
      "i feel better now :D\n",
      "lol\n",
      "lol\n",
      "yeah... me i'm layin on my bed...\n",
      "so comfy.. u should join me\n",
      "how bad u want to?\n",
      "well cum here... i can wake u up!!\n",
      "i could still wake u up... lol\n",
      "think if I walked in ur room and took my dick out of my pants ... think that would wake u up? lol\n",
      "or it i just came in and started kissing u\n",
      "u know 7a23d93b4f1799cd39c11648b52f601a... ur so very pretty right now.... and in a few years ur going to be even MORE beautiful\n",
      "yes I do\n",
      "i should let u go to bed.. i know u have school\n",
      "u don't wanna stop talkin with me do u?\n",
      "yes?\n",
      "April 21st\n",
      "yep\n",
      "very soon\n",
      "y?\n",
      "what do I want??? hmmmm\n",
      "U?\n",
      "can I have U?\n",
      "what do you want to give me for my bday?\n",
      "I'll be on later tonite hun.. hope you had a GREAT time at your grandparents!\n",
      "m? f? where from?\n",
      "hi\n",
      "34/M/Michigan.... u?\n",
      "se mi here too\n",
      "nice pics ;)\n",
      "very sexy!! ;) :D\n",
      "even for 14! lol\n",
      "ur gonna be a \"killer\" when u get older... omg!\n",
      "YES really!\n",
      "if I was younger ... i'd be chasing u!!\n",
      "lol\n",
      "u haven't even seen my pic... or u just see the one there? >>>>>>>>>>\n",
      "lol\n",
      "what u think it is?? lol\n",
      "ummmm..... well... lol\n",
      "just below the waist... me in my underwear\n",
      "now u know??\n",
      "in other words.. my dick.. .lol\n",
      "wanna see more?? lol\n",
      "like without the underwear?? :O\n",
      "lol\n",
      "tempted though aren't u... lol\n",
      "yes... u?\n",
      "lol\n",
      "i prefer the REAL thing honestly\n",
      "but at times... cyber's ok... just have to be in the right mood...\n",
      "and the right person\n",
      "have u had sex yet?\n",
      "what have u done?\n",
      "u ever given a blow job??\n",
      "k\n",
      "sorry i missed u last night.. was out with some friends.... and going out now again with the kids.... tty soon\n",
      "hey ;)\n",
      "was watching a movie..talk to u soon\n",
      "KC.... i'm going to sign off for awhile.. but will be back in about an hour.. k?\n",
      "thnx... i am working tomorrow... talk to you tomorrow night! ;):-*>:D<\n",
      "Negative user messages:\n",
      "thnx... i am working tomorrow... talk to you tomorrow night! ;):-*>:D<\n",
      "thnx... i am working tomorrow... talk to you tomorrow night! ;):-*>:D<\n"
     ]
    }
   ],
   "source": [
    "print(\"Positive user messages:\")\n",
    "for message in mini_user_messages_dict[positive_user]:\n",
    "    print(message._text)\n",
    "print(\"Negative user messages:\")\n",
    "for messages in mini_user_messages_dict[negative_user]:\n",
    "    print(message._text)"
   ]
  },
  {
   "cell_type": "code",
   "execution_count": null,
   "metadata": {
    "collapsed": true
   },
   "outputs": [],
   "source": []
  }
 ],
 "metadata": {
  "kernelspec": {
   "display_name": "Python 3",
   "language": "python",
   "name": "python3"
  },
  "language_info": {
   "codemirror_mode": {
    "name": "ipython",
    "version": 3
   },
   "file_extension": ".py",
   "mimetype": "text/x-python",
   "name": "python",
   "nbconvert_exporter": "python",
   "pygments_lexer": "ipython3",
   "version": "3.4.4"
  }
 },
 "nbformat": 4,
 "nbformat_minor": 0
}
